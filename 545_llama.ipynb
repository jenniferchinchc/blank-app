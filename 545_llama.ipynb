{
  "nbformat": 4,
  "nbformat_minor": 0,
  "metadata": {
    "colab": {
      "provenance": [],
      "authorship_tag": "ABX9TyP42wUTUg1Gf2EjTEi0VvgB",
      "include_colab_link": true
    },
    "kernelspec": {
      "name": "python3",
      "display_name": "Python 3"
    },
    "language_info": {
      "name": "python"
    }
  },
  "cells": [
    {
      "cell_type": "markdown",
      "metadata": {
        "id": "view-in-github",
        "colab_type": "text"
      },
      "source": [
        "<a href=\"https://colab.research.google.com/github/jenniferchinchc/blank-app/blob/main/545_llama.ipynb\" target=\"_parent\"><img src=\"https://colab.research.google.com/assets/colab-badge.svg\" alt=\"Open In Colab\"/></a>"
      ]
    },
    {
      "cell_type": "code",
      "execution_count": null,
      "metadata": {
        "id": "TP61HTc5d1Po"
      },
      "outputs": [],
      "source": [
        "# Read each news article, tweet, and job reviews and write their ESG summary into the database column\n",
        "import json\n",
        "import hugchat\n",
        "from hugchat.login import Login\n",
        "\n",
        "# Log in to huggingface and grant authorization to huggingchat\n",
        "sign = Login('chin6730@gmail.com', 'Chaihsuan64!')\n",
        "cookies = sign.login()\n",
        "\n",
        "# Save cookies to the local directory\n",
        "cookie_path_dir = \"./cookies_snapshot\"\n",
        "sign.saveCookiesToDir(cookie_path_dir)\n",
        "\n",
        "# Create a ChatBot\n",
        "chatbot = hugchat.ChatBot(cookies=cookies.get_dict())  # or cookie_path=\"usercookies/<email>.json\"\n",
        "\n",
        "# New a conversation (ignore error)\n",
        "id = chatbot.new_conversation()\n",
        "print(\"chatid:\", id)\n",
        "chatbot.change_conversation(id)\n",
        "\n",
        "def get_ESG_summary_and_actions(content):\n",
        "    prompt_template = \"identify this tweet is real or fake:The CDC currently reports 99031 deaths. In general the discrepancies in death counts between different sources are small and explicable. The death toll stands at roughly 100000 people today. Answer: real Use the same method to answer the following tweet\"\n",
        "\n",
        "    summary = content + prompt_template\n",
        "    ESGsummary = None\n",
        "    while ESGsummary is None:\n",
        "        try:\n",
        "            ESGsummary = chatbot.chat(summary)\n",
        "            print(ESGsummary)\n",
        "        except json.decoder.JSONDecodeError:\n",
        "            print(\"error\")\n",
        "            pass\n",
        "\n",
        "    return {\"ESGsummary\": ESGsummary}\n",
        "\n",
        "\n",
        "# Open the JSON file for reading\n",
        "with open('evnew.json', 'r') as json_file:\n",
        "    data = json.load(json_file)\n",
        "\n",
        "for content in data['content']:\n",
        "    print(content)\n",
        "\n",
        "    exit()"
      ]
    }
  ]
}